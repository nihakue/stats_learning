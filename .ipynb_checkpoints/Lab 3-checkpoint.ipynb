{
 "cells": [
  {
   "cell_type": "code",
   "execution_count": 2,
   "metadata": {
    "collapsed": false
   },
   "outputs": [],
   "source": [
    "%load_ext rpy2.ipython"
   ]
  },
  {
   "cell_type": "code",
   "execution_count": 3,
   "metadata": {
    "collapsed": false
   },
   "outputs": [
    {
     "data": {
      "text/plain": [
       "Loading required package: ISLR\n",
       "Loading required package: MASS\n",
       "Call:\n",
       "lda(Direction ~ Lag1 + Lag2, data = Smarket, subset = Year < \n",
       "    2005)\n",
       "\n",
       "Prior probabilities of groups:\n",
       "    Down       Up \n",
       "0.491984 0.508016 \n",
       "\n",
       "Group means:\n",
       "            Lag1        Lag2\n",
       "Down  0.04279022  0.03389409\n",
       "Up   -0.03954635 -0.03132544\n",
       "\n",
       "Coefficients of linear discriminants:\n",
       "            LD1\n",
       "Lag1 -0.6420190\n",
       "Lag2 -0.5135293\n"
      ]
     },
     "metadata": {},
     "output_type": "display_data"
    }
   ],
   "source": [
    "%%R\n",
    "require(ISLR)\n",
    "require(MASS)\n",
    "\n",
    "# Linear Discriminant Analysis\n",
    "lda.fit <- lda(Direction~Lag1+Lag2, data=Smarket, subset=Year<2005)\n",
    "lda.fit"
   ]
  },
  {
   "cell_type": "code",
   "execution_count": 13,
   "metadata": {
    "collapsed": false
   },
   "outputs": [
    {
     "data": {
      "image/png": "[encoded data removed]"
     },
     "metadata": {},
     "output_type": "display_data"
    }
   ],
   "source": [
    "%%R\n",
    "plot(lda.fit)"
   ]
  },
  {
   "cell_type": "code",
   "execution_count": 18,
   "metadata": {
    "collapsed": false
   },
   "outputs": [
    {
     "data": {
      "text/plain": [
       "     class posterior.Down posterior.Up         LD1\n",
       "999     Up      0.4901792    0.5098208  0.08293096\n",
       "1000    Up      0.4792185    0.5207815  0.59114102\n",
       "1001    Up      0.4668185    0.5331815  1.16723063\n",
       "1002    Up      0.4740011    0.5259989  0.83335022\n",
       "1003    Up      0.4927877    0.5072123 -0.03792892\n"
      ]
     },
     "metadata": {},
     "output_type": "display_data"
    }
   ],
   "source": [
    "%%R\n",
    "Smarket.2005 <- subset(Smarket, Year==2005)\n",
    "lda.pred <- predict(lda.fit, Smarket.2005)\n",
    "data.frame(lda.pred)[1:5,]"
   ]
  },
  {
   "cell_type": "code",
   "execution_count": 19,
   "metadata": {
    "collapsed": false
   },
   "outputs": [
    {
     "data": {
      "text/plain": [
       "      \n",
       "       Down  Up\n",
       "  Down   35  35\n",
       "  Up     76 106\n"
      ]
     },
     "metadata": {},
     "output_type": "display_data"
    }
   ],
   "source": [
    "%%R\n",
    "table(lda.pred$class, Smarket.2005$Direction)"
   ]
  },
  {
   "cell_type": "code",
   "execution_count": 27,
   "metadata": {
    "collapsed": false
   },
   "outputs": [
    {
     "data": {
      "text/plain": [
       "The following objects are masked from Smarket (pos = 3):\n",
       "\n",
       "    Direction, Lag1, Lag2, Lag3, Lag4, Lag5, Today, Volume, Year\n",
       "\n",
       "The following objects are masked from Smarket (pos = 4):\n",
       "\n",
       "    Direction, Lag1, Lag2, Lag3, Lag4, Lag5, Today, Volume, Year\n",
       "\n",
       "The following objects are masked from Smarket (pos = 5):\n",
       "\n",
       "    Direction, Lag1, Lag2, Lag3, Lag4, Lag5, Today, Volume, Year\n",
       "\n",
       "The following objects are masked from Smarket (pos = 6):\n",
       "\n",
       "    Direction, Lag1, Lag2, Lag3, Lag4, Lag5, Today, Volume, Year\n",
       "\n",
       "The following objects are masked from Smarket (pos = 7):\n",
       "\n",
       "    Direction, Lag1, Lag2, Lag3, Lag4, Lag5, Today, Volume, Year\n",
       "\n",
       "The following objects are masked from Smarket (pos = 8):\n",
       "\n",
       "    Direction, Lag1, Lag2, Lag3, Lag4, Lag5, Today, Volume, Year\n",
       "\n",
       "[1] 0.4960317\n"
      ]
     },
     "metadata": {},
     "output_type": "display_data"
    }
   ],
   "source": [
    "%%R\n",
    "# K nearest neighbors\n",
    "library(class)\n",
    "attach(Smarket)\n",
    "Xlag <- cbind(Lag1, Lag2)\n",
    "train <- Year<2005\n",
    "knn.pred <- knn(Xlag[train,], Xlag[!train,], Direction[train], k=6)\n",
    "table(knn.pred, Direction[!train])\n",
    "mean(knn.pred==Direction[!train])"
   ]
  },
  {
   "cell_type": "code",
   "execution_count": 31,
   "metadata": {
    "collapsed": false
   },
   "outputs": [],
   "source": [
    "%%R\n",
    "knn.preds = list()\n",
    "for (i in 1:10){\n",
    "    knn.pred <- knn(Xlag[train,], Xlag[!train,], Direction[train], k=i)\n",
    "    c(knn.preds, c=knn.pred)\n",
    "}"
   ]
  },
  {
   "cell_type": "code",
   "execution_count": 33,
   "metadata": {
    "collapsed": false
   },
   "outputs": [
    {
     "data": {
      "text/plain": [
       "      [,1]\n",
       " [1,] 1   \n",
       " [2,] 2   \n",
       " [3,] 3   \n",
       " [4,] 4   \n",
       " [5,] 5   \n",
       " [6,] 6   \n",
       " [7,] 7   \n",
       " [8,] 8   \n",
       " [9,] 9   \n",
       "[10,] 10  \n"
      ]
     },
     "metadata": {},
     "output_type": "display_data"
    }
   ],
   "source": [
    "%%R\n"
   ]
  },
  {
   "cell_type": "code",
   "execution_count": null,
   "metadata": {
    "collapsed": true
   },
   "outputs": [],
   "source": []
  }
 ],
 "metadata": {
  "kernelspec": {
   "display_name": "Python 2",
   "language": "python",
   "name": "python2"
  },
  "language_info": {
   "codemirror_mode": {
    "name": "ipython",
    "version": 2
   },
   "file_extension": ".py",
   "mimetype": "text/x-python",
   "name": "python",
   "nbconvert_exporter": "python",
   "pygments_lexer": "ipython2",
   "version": "2.7.9"
  }
 },
 "nbformat": 4,
 "nbformat_minor": 0
}
